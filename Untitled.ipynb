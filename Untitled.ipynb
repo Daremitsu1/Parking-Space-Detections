{
 "cells": [
  {
   "cell_type": "code",
   "execution_count": null,
   "id": "0cf35a63",
   "metadata": {},
   "outputs": [],
   "source": [
    "import cv2\n",
    "import pickle\n",
    "import cvzone\n",
    "import numpy as np"
   ]
  },
  {
   "cell_type": "code",
   "execution_count": null,
   "id": "04170b36",
   "metadata": {},
   "outputs": [],
   "source": [
    "cap = cv2.VideoCapture('carPark.mp4')\n",
    "width, height = 103, 43\n",
    "with open('polygons', 'rb') as f:\n",
    "    posList = pickle.load(f)"
   ]
  },
  {
   "cell_type": "code",
   "execution_count": null,
   "id": "c42175ba",
   "metadata": {},
   "outputs": [],
   "source": [
    "cv2.namedWindow(\"Vals\")\n",
    "cv2.resizeWindow(\"Vals\", 640, 240)\n",
    "cv2.createTrackbar(\"Val1\", \"Vals\", 25, 50, empty)\n",
    "cv2.createTrackbar(\"Val2\", \"Vals\", 16, 50, empty)\n",
    "cv2.createTrackbar(\"Val3\", \"Vals\", 5, 50, empty)"
   ]
  },
  {
   "cell_type": "code",
   "execution_count": null,
   "id": "c028eb5c",
   "metadata": {},
   "outputs": [],
   "source": [
    "def checkSpaces():\n",
    "    spaces = 0\n",
    "    for pos in posList:\n",
    "        x, y = pos\n",
    "        w, h = width, height\n",
    " \n",
    "        imgCrop = imgThres[y:y + h, x:x + w]\n",
    "        count = cv2.countNonZero(imgCrop)\n",
    " \n",
    "        if count < 900:\n",
    "            color = (0, 200, 0)\n",
    "            thic = 5\n",
    "            spaces += 1\n",
    " \n",
    "        else:\n",
    "            color = (0, 0, 200)\n",
    "            thic = 2\n",
    " \n",
    "        cv2.rectangle(img, (x, y), (x + w, y + h), color, thic)\n",
    " \n",
    "        cv2.putText(img, str(cv2.countNonZero(imgCrop)), (x, y + h - 6), cv2.FONT_HERSHEY_PLAIN, 1,\n",
    "                    color, 2)\n",
    " \n",
    "    cvzone.putTextRect(img, f'Free: {spaces}/{len(posList)}', (50, 60), thickness=3, offset=20,\n",
    "                       colorR=(0, 200, 0))"
   ]
  },
  {
   "cell_type": "code",
   "execution_count": null,
   "id": "241d4cc9",
   "metadata": {},
   "outputs": [],
   "source": [
    "while True:\n",
    " \n",
    "    # Get image frame\n",
    "    success, img = cap.read()\n",
    "    if cap.get(cv2.CAP_PROP_POS_FRAMES) == cap.get(cv2.CAP_PROP_FRAME_COUNT):\n",
    "        cap.set(cv2.CAP_PROP_POS_FRAMES, 0)\n",
    "    # img = cv2.imread('img.png')\n",
    "    imgGray = cv2.cvtColor(img, cv2.COLOR_BGR2GRAY)\n",
    "    imgBlur = cv2.GaussianBlur(imgGray, (3, 3), 1)\n",
    "    # ret, imgThres = cv2.threshold(imgBlur, 150, 255, cv2.THRESH_BINARY)\n",
    " \n",
    "    val1 = cv2.getTrackbarPos(\"Val1\", \"Vals\")\n",
    "    val2 = cv2.getTrackbarPos(\"Val2\", \"Vals\")\n",
    "    val3 = cv2.getTrackbarPos(\"Val3\", \"Vals\")\n",
    "    if val1 % 2 == 0: val1 += 1\n",
    "    if val3 % 2 == 0: val3 += 1\n",
    "    imgThres = cv2.adaptiveThreshold(imgBlur, 255, cv2.ADAPTIVE_THRESH_GAUSSIAN_C,\n",
    "                                     cv2.THRESH_BINARY_INV, val1, val2)\n",
    "    imgThres = cv2.medianBlur(imgThres, val3)\n",
    "    kernel = np.ones((3, 3), np.uint8)\n",
    "    imgThres = cv2.dilate(imgThres, kernel, iterations=1)\n",
    " \n",
    "    checkSpaces()\n",
    "    # Display Output\n",
    " \n",
    "    cv2.imshow(\"Image\", img)\n",
    "    # cv2.imshow(\"ImageGray\", imgThres)\n",
    "    # cv2.imshow(\"ImageBlur\", imgBlur)\n",
    "    key = cv2.waitKey(1)\n",
    "    if key == ord('r'):\n",
    "        pass"
   ]
  }
 ],
 "metadata": {
  "kernelspec": {
   "display_name": "Python 3 (ipykernel)",
   "language": "python",
   "name": "python3"
  },
  "language_info": {
   "codemirror_mode": {
    "name": "ipython",
    "version": 3
   },
   "file_extension": ".py",
   "mimetype": "text/x-python",
   "name": "python",
   "nbconvert_exporter": "python",
   "pygments_lexer": "ipython3",
   "version": "3.9.7"
  }
 },
 "nbformat": 4,
 "nbformat_minor": 5
}
