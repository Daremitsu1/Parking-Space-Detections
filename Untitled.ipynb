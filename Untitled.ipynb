{
 "cells": [
  {
   "cell_type": "code",
   "execution_count": null,
   "id": "0cf35a63",
   "metadata": {},
   "outputs": [],
   "source": [
    "import cv2\n",
    "import pickle\n",
    "import cvzone\n",
    "import numpy as np"
   ]
  },
  {
   "cell_type": "code",
   "execution_count": null,
   "id": "04170b36",
   "metadata": {},
   "outputs": [],
   "source": [
    "cap = cv2.VideoCapture('carPark.mp4')\n",
    "width, height = 103, 43\n",
    "with open('polygons', 'rb') as f:\n",
    "    posList = pickle.load(f)"
   ]
  },
  {
   "cell_type": "code",
   "execution_count": null,
   "id": "c42175ba",
   "metadata": {},
   "outputs": [],
   "source": [
    "cv2.namedWindow(\"Vals\")\n",
    "cv2.resizeWindow(\"Vals\", 640, 240)\n",
    "cv2.createTrackbar(\"Val1\", \"Vals\", 25, 50, empty)\n",
    "cv2.createTrackbar(\"Val2\", \"Vals\", 16, 50, empty)\n",
    "cv2.createTrackbar(\"Val3\", \"Vals\", 5, 50, empty)"
   ]
  },
  {
   "cell_type": "code",
   "execution_count": null,
   "id": "c028eb5c",
   "metadata": {},
   "outputs": [],
   "source": [
    "def checkSpaces():\n",
    "    spaces = 0\n",
    "    for pos in posList:\n",
    "        x, y = pos\n",
    "        w, h = width, height\n",
    " \n",
    "        imgCrop = imgThres[y:y + h, x:x + w]\n",
    "        count = cv2.countNonZero(imgCrop)\n",
    " \n",
    "        if count < 900:\n",
    "            color = (0, 200, 0)\n",
    "            thic = 5\n",
    "            spaces += 1\n",
    " \n",
    "        else:\n",
    "            color = (0, 0, 200)\n",
    "            thic = 2\n",
    " \n",
    "        cv2.rectangle(img, (x, y), (x + w, y + h), color, thic)\n",
    " \n",
    "        cv2.putText(img, str(cv2.countNonZero(imgCrop)), (x, y + h - 6), cv2.FONT_HERSHEY_PLAIN, 1,\n",
    "                    color, 2)\n",
    " \n",
    "    cvzone.putTextRect(img, f'Free: {spaces}/{len(posList)}', (50, 60), thickness=3, offset=20,\n",
    "                       colorR=(0, 200, 0))"
   ]
  },
  {
   "cell_type": "code",
   "execution_count": null,
   "id": "241d4cc9",
   "metadata": {},
   "outputs": [],
   "source": []
  },
  {
   "cell_type": "code",
   "execution_count": null,
   "id": "3183d135",
   "metadata": {},
   "outputs": [],
   "source": []
  },
  {
   "cell_type": "code",
   "execution_count": null,
   "id": "ed20e3c7",
   "metadata": {},
   "outputs": [],
   "source": []
  }
 ],
 "metadata": {
  "kernelspec": {
   "display_name": "Python 3 (ipykernel)",
   "language": "python",
   "name": "python3"
  },
  "language_info": {
   "codemirror_mode": {
    "name": "ipython",
    "version": 3
   },
   "file_extension": ".py",
   "mimetype": "text/x-python",
   "name": "python",
   "nbconvert_exporter": "python",
   "pygments_lexer": "ipython3",
   "version": "3.9.7"
  }
 },
 "nbformat": 4,
 "nbformat_minor": 5
}
